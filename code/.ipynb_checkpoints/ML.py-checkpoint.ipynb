{
 "cells": [
  {
   "cell_type": "code",
   "execution_count": 18,
   "metadata": {
    "collapsed": true
   },
   "outputs": [],
   "source": [
    "import pandas as pd\n",
    "import numpy as np\n",
    "import sklearn\n",
    "\n",
    "import matplotlib \n",
    "import matplotlib.pyplot as plt\n",
    "\n",
    "from sklearn import metrics\n",
    "from sklearn.model_selection import cross_val_score\n",
    "from sklearn.metrics import average_precision_score\n",
    "\n",
    "from sklearn.naive_bayes import GaussianNB\n",
    "from sklearn import tree\n",
    "from sklearn.ensemble import GradientBoostingClassifier\n",
    "from sklearn.neural_network import MLPClassifier\n",
    "from sklearn.neighbors import NearestNeighbors\n",
    "from sklearn.neighbors import KNeighborsClassifier\n",
    "from sklearn.model_selection import train_test_split\n",
    "from sklearn.model_selection import KFold\n",
    "from sklearn.ensemble import BaggingClassifier\n",
    "from sklearn.ensemble import AdaBoostClassifier\n",
    "from sklearn.ensemble import RandomForestClassifier\n",
    "from sklearn.preprocessing import StandardScaler\n",
    "from sklearn.preprocessing import MinMaxScaler\n",
    "from sklearn.preprocessing import OneHotEncoder\n",
    "from sklearn.decomposition import PCA\n",
    "from sklearn.datasets import make_classification\n",
    "from sklearn.ensemble import ExtraTreesClassifier\n",
    "from sklearn.ensemble import RandomForestRegressor\n",
    "from sklearn.preprocessing import Imputer\n",
    "\n",
    "import time\n",
    "from operator import itemgetter\n",
    "\n",
    "import copy\n",
    "from copy import deepcopy\n",
    "print_mode = True"
   ]
  },
  {
   "cell_type": "code",
   "execution_count": 19,
   "metadata": {
    "collapsed": true
   },
   "outputs": [],
   "source": [
    "%run import_data\n"
   ]
  },
  {
   "cell_type": "code",
   "execution_count": 20,
   "metadata": {
    "collapsed": true
   },
   "outputs": [],
   "source": [
    "base = copy.deepcopy(merged_data)\n",
    "\n",
    "colonnes_inutiles = ['num_veh','Num_Acc',\n",
    "                                'locp',\n",
    "                                'actp',\n",
    "                                'etatp',\n",
    "                                'catv',\n",
    "                                'hrmn',\n",
    "                                'mois',\n",
    "                                'jour',\n",
    "                                'catvopp',\n",
    "                                'occutc',\n",
    "                                'place']\n",
    "merged_data = merged_data.drop(colonnes_inutiles,axis = 1)\n",
    "\n"
   ]
  },
  {
   "cell_type": "code",
   "execution_count": 21,
   "metadata": {},
   "outputs": [],
   "source": [
    "target = merged_data.grav\n",
    "target_binaire = target.replace([3,4],0)\n",
    "target_binaire = target_binaire.replace(2,1)\n",
    "\n",
    "\n",
    "merged_data = merged_data.drop('grav',axis = 1)\n",
    "colnames = list(merged_data.columns)\n",
    "colnames.remove('an_nais')\n",
    "data_cat = merged_data[colnames]\n",
    "data_cat = data_cat.astype(str)\n",
    "\n",
    "\n",
    "\n",
    "X_cat = np.copy(data_cat) \n",
    "for col_id in range(len(X_cat[0])):\n",
    "    unique_val, val_idx = np.unique(X_cat[:, col_id], return_inverse=True) \n",
    "    X_cat[:, col_id] = val_idx\n",
    "\n",
    "imp_cat = Imputer(missing_values=np.nan, strategy='most_frequent') \n",
    "X_cat[:, range(5)] = imp_cat.fit_transform(X_cat[:, range(5)])\n",
    "\n",
    "\n",
    "encodeur = OneHotEncoder()\n",
    "encodeur.fit(X_cat)\n",
    "X_cat = encodeur.transform(X_cat).toarray()"
   ]
  },
  {
   "cell_type": "code",
   "execution_count": 22,
   "metadata": {
    "collapsed": true
   },
   "outputs": [],
   "source": [
    "lol = pd.DataFrame(target)"
   ]
  },
  {
   "cell_type": "code",
   "execution_count": 23,
   "metadata": {
    "collapsed": true
   },
   "outputs": [],
   "source": [
    "colnames = list(merged_data.columns)\n",
    "colnames.remove('an_nais')"
   ]
  },
  {
   "cell_type": "code",
   "execution_count": null,
   "metadata": {
    "collapsed": true
   },
   "outputs": [],
   "source": [
    "\n"
   ]
  },
  {
   "cell_type": "code",
   "execution_count": 24,
   "metadata": {},
   "outputs": [
    {
     "data": {
      "text/plain": [
       "(32417, 1)"
      ]
     },
     "execution_count": 24,
     "metadata": {},
     "output_type": "execute_result"
    }
   ],
   "source": [
    "lol.shape"
   ]
  },
  {
   "cell_type": "code",
   "execution_count": 25,
   "metadata": {
    "collapsed": true
   },
   "outputs": [],
   "source": [
    "X_cat = pd.get_dummies(data_cat, columns = colnames)\n",
    "X_cat = X_cat.astype(int)"
   ]
  },
  {
   "cell_type": "code",
   "execution_count": 26,
   "metadata": {
    "collapsed": true
   },
   "outputs": [],
   "source": [
    "X_train, X_test, y_train, y_test = train_test_split(X_cat, \n",
    "                                                    target, \n",
    "                                                    test_size=0.2, \n",
    "                                                    random_state=42)"
   ]
  },
  {
   "cell_type": "code",
   "execution_count": 27,
   "metadata": {
    "collapsed": true
   },
   "outputs": [],
   "source": [
    "def TP(theta,pred,result):\n",
    "    count = 0\n",
    "    i = 0\n",
    "    for x in (result):\n",
    "        if pred[i][1] > theta and x == 1:\n",
    "            count += 1\n",
    "        i += 1\n",
    "    return count\n",
    "\n",
    "\n",
    "def FP(theta,pred,result):\n",
    "    count = 0\n",
    "    i = 0\n",
    "    for x in (result):\n",
    "        if pred[i][1] >= theta and x == 0:\n",
    "            count += 1\n",
    "        i += 1\n",
    "    return count\n",
    "\n",
    "\n",
    "def TN(theta,pred,result):\n",
    "    count = 0\n",
    "    i = 0\n",
    "    for x in (result):\n",
    "        if pred[i][1] < theta and x == 0:\n",
    "            count += 1\n",
    "        i += 1\n",
    "    return count\n",
    "\n",
    "\n",
    "def FN(theta,pred,result):\n",
    "    count = 0\n",
    "    i = 0\n",
    "    for x in (result):\n",
    "        if pred[i][1] < theta and x == 1:\n",
    "            count += 1\n",
    "        i += 1\n",
    "    return count\n",
    "\n",
    "\n",
    "class ROC_curves:\n",
    "    def __init__(self,\n",
    "                 pred=merged_data,\n",
    "                 res=target,\n",
    "                 gran = 101):\n",
    "        x = []\n",
    "        y = []\n",
    "        for j in range(0,gran):\n",
    "            tn = TN(j/(gran-1),pred,res)\n",
    "            neg = tn + FP(j/(gran-1),pred,res)\n",
    "            tp = TP(j/(gran-1),pred,res)\n",
    "            pos = tp + FN(j/(gran-1),pred,res)\n",
    "\n",
    "            if neg == 0:\n",
    "                x.append(0)\n",
    "            else:\n",
    "                x.append(tn / neg)\n",
    "            if pos == 0:\n",
    "                y.append(0)\n",
    "            else:\n",
    "                y.append(tp / pos)\n",
    "      \n",
    "        self.rocx = x\n",
    "        self.rocy = y\n",
    "    def plot_it(self):\n",
    "        plt.plot(self.rocx,self.rocy)\n",
    "        plt.show()"
   ]
  },
  {
   "cell_type": "code",
   "execution_count": 28,
   "metadata": {
    "collapsed": true
   },
   "outputs": [],
   "source": [
    "class Qualite:\n",
    "    def __init__(self, \n",
    "                   _modele, \n",
    "                   _data=merged_data, \n",
    "                   _y=target, \n",
    "                   _y_pred=target,\n",
    "                   _y_pred_proba=target,\n",
    "                   _cv=10,\n",
    "                   _print_mode=True):\n",
    "        \n",
    "        self.accuracy = sklearn.metrics.accuracy_score(_y, _y_pred)\n",
    "        self.AUC = sklearn.metrics.roc_auc_score(_y, _y_pred)\n",
    "        self.cross_validation = cross_val_score(_modele, _data, y=_y, cv=_cv)\n",
    "        self.moyenne = np.mean(self.cross_validation)\n",
    "        self.ecart_type = np.std(self.cross_validation)\n",
    "        self.precision = average_precision_score(_y, _y_pred)\n",
    "        \n",
    "        self.roc = ROC_curves(pred=_y_pred_proba, res=_y)\n",
    "        \n",
    "        \n",
    "        if _print_mode:\n",
    "            self.roc.plot_it()"
   ]
  },
  {
   "cell_type": "code",
   "execution_count": 29,
   "metadata": {},
   "outputs": [],
   "source": [
    "def algo_apprentissage(mod=GaussianNB(),\n",
    "                           data=merged_data,\n",
    "                           target=target_binaire,\n",
    "                           print_mode=True,\n",
    "                           cv=10):\n",
    "    X_train, X_test, y_train, y_test = train_test_split(data, \n",
    "                                                    target, \n",
    "                                                    test_size=0.2, \n",
    "                                                    random_state=42)\n",
    "    result = dict()\n",
    "    mod_fit = mod.fit(X_train, y_train)\n",
    "    y_prediction_proba = mod_fit.predict_proba(X_test)\n",
    "    y_prediction = mod_fit.predict(X_test)\n",
    "    q_mod = Qualite(_modele=mod,\n",
    "                 _data=X_test,\n",
    "                 _y=y_test,\n",
    "                 _y_pred=y_prediction,\n",
    "                 _y_pred_proba=y_prediction_proba,\n",
    "                 _print_mode=print_mode,\n",
    "                 _cv=cv)\n",
    "    \n",
    "    result['y_prediction_proba'] = y_prediction_proba\n",
    "    result['y_prediction'] = y_prediction\n",
    "    result['q_mod'] = q_mod\n",
    "    \n",
    "    if print_mode:\n",
    "        print('La précision est ' + str(q_mod.accuracy))\n",
    "        print('')\n",
    "        print('L\\'AUC est ' + str(q_mod.AUC))\n",
    "        print('')\n",
    "        print('Le score moyen par ' + str(cv) + ' cross-validation est ' + str(q_mod.moyenne))\n",
    "    \n",
    "    return result"
   ]
  },
  {
   "cell_type": "code",
   "execution_count": 30,
   "metadata": {},
   "outputs": [
    {
     "data": {
      "image/png": "[encoded data removed]",
      "text/plain": [
       "<matplotlib.figure.Figure at 0x11396cc50>"
      ]
     },
     "metadata": {},
     "output_type": "display_data"
    },
    {
     "name": "stdout",
     "output_type": "stream",
     "text": [
      "La précision est 0.530999383097\n",
      "\n",
      "L'AUC est 0.584926585695\n",
      "\n",
      "Le score moyen par 10 cross-validation est 0.536545304937\n"
     ]
    },
    {
     "data": {
      "text/plain": [
       "{'q_mod': <__main__.Qualite at 0x103b98b38>,\n",
       " 'y_prediction': array([1, 1, 1, ..., 0, 0, 1]),\n",
       " 'y_prediction_proba': array([[  1.17422940e-51,   1.00000000e+00],\n",
       "        [  8.68635910e-10,   9.99999999e-01],\n",
       "        [  5.67179015e-10,   9.99999999e-01],\n",
       "        ..., \n",
       "        [  9.90314647e-01,   9.68535275e-03],\n",
       "        [  1.00000000e+00,   3.05520454e-14],\n",
       "        [  9.33161795e-15,   1.00000000e+00]])}"
      ]
     },
     "execution_count": 30,
     "metadata": {},
     "output_type": "execute_result"
    }
   ],
   "source": [
    "algo_apprentissage(data=X_cat, target=target_binaire)"
   ]
  },
  {
   "cell_type": "code",
   "execution_count": 31,
   "metadata": {},
   "outputs": [
    {
     "data": {
      "text/plain": [
       "{0, 1}"
      ]
     },
     "execution_count": 31,
     "metadata": {},
     "output_type": "execute_result"
    }
   ],
   "source": [
    "set(target_binaire)"
   ]
  },
  {
   "cell_type": "code",
   "execution_count": 32,
   "metadata": {},
   "outputs": [
    {
     "data": {
      "image/png": "[encoded data removed]",
      "text/plain": [
       "<matplotlib.figure.Figure at 0x113dd6da0>"
      ]
     },
     "metadata": {},
     "output_type": "display_data"
    },
    {
     "name": "stdout",
     "output_type": "stream",
     "text": [
      "La précision est 0.670727945713\n",
      "\n",
      "L'AUC est 0.670316778796\n",
      "\n",
      "Le score moyen par 10 cross-validation est 0.637564490203\n"
     ]
    },
    {
     "data": {
      "image/png": "[encoded data removed]",
      "text/plain": [
       "<matplotlib.figure.Figure at 0x113dd6668>"
      ]
     },
     "metadata": {},
     "output_type": "display_data"
    },
    {
     "name": "stdout",
     "output_type": "stream",
     "text": [
      "La précision est 0.679056138186\n",
      "\n",
      "L'AUC est 0.670820171577\n",
      "\n",
      "Le score moyen par 10 cross-validation est 0.678612491059\n"
     ]
    },
    {
     "data": {
      "image/png": "[encoded data removed]",
      "text/plain": [
       "<matplotlib.figure.Figure at 0x103e175f8>"
      ]
     },
     "metadata": {},
     "output_type": "display_data"
    },
    {
     "name": "stdout",
     "output_type": "stream",
     "text": [
      "La précision est 0.680598396052\n",
      "\n",
      "L'AUC est 0.670945505306\n",
      "\n",
      "Le score moyen par 10 cross-validation est 0.680610806779\n"
     ]
    },
    {
     "data": {
      "image/png": "[encoded data removed]",
      "text/plain": [
       "<matplotlib.figure.Figure at 0x116053ba8>"
      ]
     },
     "metadata": {},
     "output_type": "display_data"
    },
    {
     "name": "stdout",
     "output_type": "stream",
     "text": [
      "La précision est 0.75493522517\n",
      "\n",
      "L'AUC est 0.729681359327\n",
      "\n",
      "Le score moyen par 10 cross-validation est 0.75278313138\n"
     ]
    },
    {
     "data": {
      "image/png": "[encoded data removed]",
      "text/plain": [
       "<matplotlib.figure.Figure at 0x113933cf8>"
      ]
     },
     "metadata": {},
     "output_type": "display_data"
    },
    {
     "name": "stdout",
     "output_type": "stream",
     "text": [
      "La précision est 0.585286859963\n",
      "\n",
      "L'AUC est 0.5\n",
      "\n",
      "Le score moyen par 10 cross-validation est 0.572786759202\n"
     ]
    },
    {
     "data": {
      "image/png": "[encoded data removed]",
      "text/plain": [
       "<matplotlib.figure.Figure at 0x10f6cc860>"
      ]
     },
     "metadata": {},
     "output_type": "display_data"
    },
    {
     "name": "stdout",
     "output_type": "stream",
     "text": [
      "La précision est 0.680135718692\n",
      "\n",
      "L'AUC est 0.66496863472\n",
      "\n",
      "Le score moyen par 10 cross-validation est 0.655148066898\n"
     ]
    },
    {
     "data": {
      "image/png": "[encoded data removed]",
      "text/plain": [
       "<matplotlib.figure.Figure at 0x113a22ba8>"
      ]
     },
     "metadata": {},
     "output_type": "display_data"
    },
    {
     "name": "stdout",
     "output_type": "stream",
     "text": [
      "La précision est 0.746298581123\n",
      "\n",
      "L'AUC est 0.729456366174\n",
      "\n",
      "Le score moyen par 10 cross-validation est 0.742762261408\n"
     ]
    },
    {
     "data": {
      "image/png": "[encoded data removed]",
      "text/plain": [
       "<matplotlib.figure.Figure at 0x1134287f0>"
      ]
     },
     "metadata": {},
     "output_type": "display_data"
    },
    {
     "name": "stdout",
     "output_type": "stream",
     "text": [
      "La précision est 0.752159161012\n",
      "\n",
      "L'AUC est 0.72546734341\n",
      "\n",
      "Le score moyen par 10 cross-validation est 0.746306878179\n"
     ]
    },
    {
     "data": {
      "image/png": "[encoded data removed]",
      "text/plain": [
       "<matplotlib.figure.Figure at 0x10f6a6be0>"
      ]
     },
     "metadata": {},
     "output_type": "display_data"
    },
    {
     "name": "stdout",
     "output_type": "stream",
     "text": [
      "La précision est 0.744447871684\n",
      "\n",
      "L'AUC est 0.723160771621\n",
      "\n",
      "Le score moyen par 10 cross-validation est 0.738130484383\n"
     ]
    }
   ],
   "source": [
    "GNB = GaussianNB()\n",
    "gnb = algo_apprentissage(GNB)\n",
    "\n",
    "DTC = tree.DecisionTreeClassifier()\n",
    "dtc = algo_apprentissage(DTC)\n",
    "\n",
    "ID3 = tree.DecisionTreeClassifier(criterion=\"entropy\")\n",
    "id3 = algo_apprentissage(ID3)\n",
    "\n",
    "decision_stump = GradientBoostingClassifier(n_estimators=100,\n",
    "                                 learning_rate=1.0,\n",
    "                                 max_depth=1,\n",
    "                                 random_state=0)\n",
    "ds = algo_apprentissage(decision_stump)\n",
    "\n",
    "MLP = MLPClassifier(solver='lbfgs',\n",
    "                    alpha=1,\n",
    "                    hidden_layer_sizes=(20, 10))\n",
    "mlp = algo_apprentissage(MLP)\n",
    "\n",
    "KNN = KNeighborsClassifier()\n",
    "knn = algo_apprentissage(KNN)\n",
    "\n",
    "BC = BaggingClassifier(n_estimators=50)\n",
    "bc = algo_apprentissage(BC)\n",
    "\n",
    "ABC = AdaBoostClassifier(n_estimators=50,\n",
    "                         learning_rate=1.0,\n",
    "                         algorithm='SAMME.R',\n",
    "                         random_state=None)\n",
    "abc = algo_apprentissage(ABC)\n",
    "\n",
    "RFC = RandomForestClassifier(n_estimators=10,\n",
    "                             criterion='gini',\n",
    "                             max_depth=None,\n",
    "                             min_samples_split=2,\n",
    "                             min_samples_leaf=1,\n",
    "                             min_weight_fraction_leaf=0.0,\n",
    "                             max_features='auto',\n",
    "                             max_leaf_nodes=None,\n",
    "                             min_impurity_decrease=0.0,\n",
    "                             min_impurity_split=None,\n",
    "                             bootstrap=True,\n",
    "                             oob_score=False,\n",
    "                             n_jobs=1,\n",
    "                             random_state=None,\n",
    "                             verbose=0,\n",
    "                             warm_start=False,\n",
    "                             class_weight=None)\n",
    "rfc = algo_apprentissage(RFC)\n",
    "\n"
   ]
  },
  {
   "cell_type": "code",
   "execution_count": null,
   "metadata": {},
   "outputs": [],
   "source": [
    "colnames = ['Accuracy', 'AUC', 'Moyenne CV', 'Std CV', 'Temps']\n",
    "algos = [KNN, DTC, ID3, BC, RFC, ABC, decision_stump]\n",
    "indexs = ['KNN', 'DTC', 'id3', 'BC', 'RFC', 'ABC', 'DS']\n",
    "clfs = dict()\n",
    "for x in range(len(algos)):\n",
    "    clfs[indexs[x]] = algos[x]\n",
    "    plot_learning_curve(estimator=algos[x], title=indexs[x], X=X_cat, y=target_binaire)\n",
    "    \n",
    "    \n",
    "    \n",
    "def final_table(mode=None,\n",
    "                data=merged_data,\n",
    "                target=target_binaire,\n",
    "                col=colnames,\n",
    "                algos=algos,\n",
    "                indexs=indexs):\n",
    "    if mode is None:\n",
    "        pass\n",
    "    elif mode == 'normalized':\n",
    "        scaler = StandardScaler()\n",
    "        scaler.fit(data)\n",
    "        data = scaler.transform(data)\n",
    "    elif mode == 'min_max_ed':\n",
    "        scaler = MinMaxScaler()\n",
    "        scaler.fit(data)\n",
    "        data = scaler.transform(data)\n",
    "    elif mode == 'pca':\n",
    "        data = pca_transform(data=data,\n",
    "                                 normalized=True,\n",
    "                                 print_mode=False)[1]\n",
    "\n",
    "\n",
    "    result = []\n",
    "    for alg in algos:\n",
    "        t1 = time.time()\n",
    "        res_algo = algo_apprentissage(alg, data=data, target=target,print_mode=False)\n",
    "        t2 = time.time()\n",
    "        delta_t = t2 - t1\n",
    "        ajout = [res_algo['q_mod'].accuracy, res_algo['q_mod'].AUC, res_algo['q_mod'].moyenne, res_algo['q_mod'].ecart_type, delta_t]\n",
    "        result.append(ajout)\n",
    "\n",
    "    result = pd.DataFrame(result, columns=colnames, index=indexs)\n",
    "    return result\n",
    "\n",
    "modes = [None, 'normalized', 'min_max_ed', 'pca']\n",
    "\n",
    "tables = dict()\n",
    "for mode in modes:\n",
    "    event = dict()\n",
    "    tables[str(mode)] = final_table(mode=mode)"
   ]
  },
  {
   "cell_type": "code",
   "execution_count": null,
   "metadata": {},
   "outputs": [],
   "source": [
    "tables['None']"
   ]
  },
  {
   "cell_type": "code",
   "execution_count": null,
   "metadata": {},
   "outputs": [],
   "source": [
    "base.columns"
   ]
  },
  {
   "cell_type": "code",
   "execution_count": null,
   "metadata": {
    "collapsed": true
   },
   "outputs": [],
   "source": []
  },
  {
   "cell_type": "code",
   "execution_count": null,
   "metadata": {},
   "outputs": [],
   "source": [
    "correlations = base.corr()\n",
    "# plot correlation matrix\n",
    "fig = plt.figure()\n",
    "ax = fig.add_subplot(111)\n",
    "cax = ax.matshow(correlations, vmin=-1, vmax=1)\n",
    "fig.colorbar(cax)\n",
    "ticks = np.arange(0,9,1)\n",
    "ax.set_xticks(ticks)\n",
    "ax.set_yticks(ticks)\n",
    "ax.set_xticklabels(list(base.columns))\n",
    "ax.set_yticklabels(list(base.columns))\n",
    "plt.show()"
   ]
  },
  {
   "cell_type": "code",
   "execution_count": null,
   "metadata": {
    "collapsed": true
   },
   "outputs": [],
   "source": []
  },
  {
   "cell_type": "code",
   "execution_count": null,
   "metadata": {
    "collapsed": true
   },
   "outputs": [],
   "source": []
  },
  {
   "cell_type": "code",
   "execution_count": null,
   "metadata": {
    "collapsed": true
   },
   "outputs": [],
   "source": []
  },
  {
   "cell_type": "code",
   "execution_count": null,
   "metadata": {
    "collapsed": true
   },
   "outputs": [],
   "source": []
  },
  {
   "cell_type": "code",
   "execution_count": null,
   "metadata": {
    "collapsed": true
   },
   "outputs": [],
   "source": []
  },
  {
   "cell_type": "code",
   "execution_count": 44,
   "metadata": {},
   "outputs": [],
   "source": [
    "import numpy as np\n",
    "import matplotlib.pyplot as plt\n",
    "from sklearn.naive_bayes import GaussianNB\n",
    "from sklearn.svm import SVC\n",
    "from sklearn.datasets import load_digits\n",
    "from sklearn.model_selection import learning_curve\n",
    "from sklearn.model_selection import ShuffleSplit\n",
    "\n",
    "\n",
    "def plot_learning_curve(estimator, title, X, y, ylim=(0.7, 1.01), cvalidation=None,\n",
    "                        n_jobs=4, train_sizes=np.linspace(.1, 1.0, 5), print_mode=True):\n",
    "    \"\"\"\n",
    "    Generate a simple plot of the test and training learning curve.\n",
    "\n",
    "    Parameters\n",
    "    ----------\n",
    "    estimator : object type that implements the \"fit\" and \"predict\" methods\n",
    "        An object of that type which is cloned for each validation.\n",
    "\n",
    "    title : string\n",
    "        Title for the chart.\n",
    "\n",
    "    X : array-like, shape (n_samples, n_features)\n",
    "        Training vector, where n_samples is the number of samples and\n",
    "        n_features is the number of features.\n",
    "\n",
    "    y : array-like, shape (n_samples) or (n_samples, n_features), optional\n",
    "        Target relative to X for classification or regression;\n",
    "        None for unsupervised learning.\n",
    "\n",
    "    ylim : tuple, shape (ymin, ymax), optional\n",
    "        Defines minimum and maximum yvalues plotted.\n",
    "\n",
    "    cvalidation : int, cross-validation generator or an iterable, optional\n",
    "        Determines the cross-validation splitting strategy.\n",
    "        Possible inputs for cv are:\n",
    "          - None, to use the default 3-fold cross-validation,\n",
    "          - integer, to specify the number of folds.\n",
    "          - An object to be used as a cross-validation generator.\n",
    "          - An iterable yielding train/test splits.\n",
    "\n",
    "        For integer/None inputs, if ``y`` is binary or multiclass,\n",
    "        :class:`StratifiedKFold` used. If the estimator is not a classifier\n",
    "        or if ``y`` is neither binary nor multiclass, :class:`KFold` is used.\n",
    "\n",
    "        Refer :ref:`User Guide <cross_validation>` for the various\n",
    "        cross-validators that can be used here.\n",
    "\n",
    "    n_jobs : integer, optional\n",
    "        Number of jobs to run in parallel (default 1).\n",
    "    \"\"\"\n",
    "    plt.figure()\n",
    "    plt.title(title)\n",
    "    if ylim is not None:\n",
    "        plt.ylim(*ylim)\n",
    "    plt.xlabel(\"Training examples\")\n",
    "    plt.ylabel(\"Score\")\n",
    "    train_sizes, train_scores, test_scores = learning_curve(\n",
    "        estimator, X, y, cv=cvalidation, n_jobs=n_jobs, train_sizes=train_sizes)\n",
    "    train_scores_mean = np.mean(train_scores, axis=1)\n",
    "    train_scores_std = np.std(train_scores, axis=1)\n",
    "    test_scores_mean = np.mean(test_scores, axis=1)\n",
    "    test_scores_std = np.std(test_scores, axis=1)\n",
    "    plt.grid()\n",
    "\n",
    "    plt.fill_between(train_sizes, train_scores_mean - train_scores_std,\n",
    "                     train_scores_mean + train_scores_std, alpha=0.1,\n",
    "                     color=\"r\")\n",
    "    plt.fill_between(train_sizes, test_scores_mean - test_scores_std,\n",
    "                     test_scores_mean + test_scores_std, alpha=0.1, color=\"g\")\n",
    "    plt.plot(train_sizes, train_scores_mean, 'o-', color=\"r\",\n",
    "             label=\"Training score\")\n",
    "    plt.plot(train_sizes, test_scores_mean, 'o-', color=\"g\",\n",
    "             label=\"Cross-validation score\")\n",
    "\n",
    "    plt.legend(loc=\"best\")\n",
    "    if print_mode:\n",
    "        plt.show()\n",
    "    return plt\n",
    "\n",
    "\n",
    "digits = load_digits()\n",
    "X, y = digits.data, digits.target\n",
    "\n",
    "\n",
    "title = \"Learning Curves (Naive Bayes)\"\n",
    "# Cross validation with 100 iterations to get smoother mean test and train\n",
    "# score curves, each time with 20% data randomly selected as a validation set.\n",
    "cvalidation = ShuffleSplit(n_splits=100, test_size=0.2, random_state=0)\n",
    "\n",
    "estimator = KNN\n",
    "##plot_learning_curve(estimator, title, X, y, ylim=(0.7, 1.01), cvalidation=cvalidation, n_jobs=4)\n",
    "\n",
    "\n"
   ]
  },
  {
   "cell_type": "code",
   "execution_count": 35,
   "metadata": {},
   "outputs": [
    {
     "data": {
      "text/plain": [
       "ShuffleSplit(n_splits=10, random_state=0, test_size=0.2, train_size=None)"
      ]
     },
     "execution_count": 35,
     "metadata": {},
     "output_type": "execute_result"
    }
   ],
   "source": [
    "cv"
   ]
  },
  {
   "cell_type": "code",
   "execution_count": 38,
   "metadata": {},
   "outputs": [
    {
     "data": {
      "text/plain": [
       "sklearn.model_selection._split.ShuffleSplit"
      ]
     },
     "execution_count": 38,
     "metadata": {},
     "output_type": "execute_result"
    }
   ],
   "source": [
    "type(cv)"
   ]
  },
  {
   "cell_type": "code",
   "execution_count": null,
   "metadata": {
    "collapsed": true
   },
   "outputs": [],
   "source": []
  }
 ],
 "metadata": {
  "kernelspec": {
   "display_name": "Python 3",
   "language": "python",
   "name": "python3"
  },
  "language_info": {
   "codemirror_mode": {
    "name": "ipython",
    "version": 3
   },
   "file_extension": ".py",
   "mimetype": "text/x-python",
   "name": "python",
   "nbconvert_exporter": "python",
   "pygments_lexer": "ipython3",
   "version": "3.6.0"
  }
 },
 "nbformat": 4,
 "nbformat_minor": 2
}
