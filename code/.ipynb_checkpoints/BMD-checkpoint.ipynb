{
 "cells": [
  {
   "cell_type": "code",
   "execution_count": 19,
   "metadata": {
    "collapsed": true
   },
   "outputs": [],
   "source": [
    "import pandas as pd\n",
    "import os\n",
    "import numpy as np\n",
    "from matplotlib import pyplot as plt\n",
    "import random as rd"
   ]
  },
  {
   "cell_type": "code",
   "execution_count": 2,
   "metadata": {
    "collapsed": true
   },
   "outputs": [],
   "source": [
    "merged_data = pd.read_csv(\"../result/the_result_file.csv\", index_col=0)\n",
    "merged_data.dropna(inplace=True)\n",
    "\n",
    "y = merged_data.grav\n",
    "merged_data_sans_grav = merged_data.drop(['grav'],axis = 1)"
   ]
  },
  {
   "cell_type": "code",
   "execution_count": 3,
   "metadata": {
    "collapsed": true
   },
   "outputs": [],
   "source": [
    "def encoding(data):\n",
    "    colnames = data.columns\n",
    "    \n",
    "    result = pd.DataFrame(index=data.index)\n",
    "    \n",
    "    for colname in colnames:\n",
    "        dum = pd.get_dummies(data[colname], prefix=colname)\n",
    "        result = pd.merge(result, dum, left_index=True, right_index=True)\n",
    "    return result\n",
    "\n",
    "\n",
    "encoded = encoding(merged_data)"
   ]
  },
  {
   "cell_type": "code",
   "execution_count": 4,
   "metadata": {
    "collapsed": true,
    "scrolled": true
   },
   "outputs": [],
   "source": [
    "X = encoded"
   ]
  },
  {
   "cell_type": "code",
   "execution_count": 5,
   "metadata": {
    "collapsed": true
   },
   "outputs": [],
   "source": [
    "n = len(X)"
   ]
  },
  {
   "cell_type": "code",
   "execution_count": 6,
   "metadata": {
    "collapsed": true
   },
   "outputs": [],
   "source": [
    "r = len(X.columns)"
   ]
  },
  {
   "cell_type": "code",
   "execution_count": 29,
   "metadata": {
    "collapsed": true
   },
   "outputs": [],
   "source": [
    "K = 4"
   ]
  },
  {
   "cell_type": "code",
   "execution_count": 8,
   "metadata": {
    "collapsed": true
   },
   "outputs": [],
   "source": [
    "def Odist( _D, _F, _X=X):\n",
    "    _D = np.matrix(_D)\n",
    "    _F = np.matrix(_F)\n",
    "    _X = np.matrix(_X)\n",
    "    \n",
    "    mat = _X - _D.dot(_F)\n",
    "    \n",
    "    dist = np.linalg.norm(mat)\n",
    "    return dist\n",
    "    "
   ]
  },
  {
   "cell_type": "code",
   "execution_count": 10,
   "metadata": {},
   "outputs": [],
   "source": [
    "def ykj(d,x):\n",
    "    n=len(x)\n",
    "    r = len(x[0])\n",
    "    y = np.zeros((K, r))\n",
    "    \n",
    "    for k in range(0,K):\n",
    "        nk = 0\n",
    "        for i in range(0,n):\n",
    "            nk = nk + d[i][k]\n",
    "        if not nk == 0:\n",
    "            for j in range(0,r):\n",
    "                for i in range(0,n):\n",
    "                    y[k][j] = y[k][j] + d[i][k]*x[i][j]\n",
    "                y[k][j] = y[k][j] / nk\n",
    "    return y\n",
    "            \n",
    "\n",
    "\n",
    "def fkj(y):\n",
    "    f = y > 0.5\n",
    "    f = f.astype(int)\n",
    "    return f"
   ]
  },
  {
   "cell_type": "code",
   "execution_count": 11,
   "metadata": {
    "collapsed": true
   },
   "outputs": [],
   "source": [
    "def somme23(f, i, k, x):\n",
    "    r = len(x[0])\n",
    "    s = 0\n",
    "    for j in range(0,r):\n",
    "        s = s + (x[i][j] - f[k][j])*(x[i][j] - f[k][j])\n",
    "    return s\n",
    "\n",
    "def dik(x, f):\n",
    "    n = len(x)\n",
    "    d = np.array([[1]*K]*n)\n",
    "    \n",
    "    for i in range(n):\n",
    "        for k in range(K):\n",
    "            sk = somme23(f, i ,k, x)\n",
    "            for l in range(K):\n",
    "                if not l==k:\n",
    "                    sl = somme23(f, i ,l, x)\n",
    "                    if sl <= sk:\n",
    "                        d[i][k] = 0\n",
    "                        \n",
    "    return d"
   ]
  },
  {
   "cell_type": "code",
   "execution_count": 45,
   "metadata": {},
   "outputs": [],
   "source": [
    "def Dinit(long, k):\n",
    "    d = np.array([[0]*k]*long)\n",
    "    \n",
    "    for i in range(long):\n",
    "        r = rd.randint(0,k-1)\n",
    "        d[i][r] = 1\n",
    "    return d"
   ]
  },
  {
   "cell_type": "code",
   "execution_count": 51,
   "metadata": {
    "collapsed": true
   },
   "outputs": [],
   "source": [
    "def Dperfect(long, k, y):\n",
    "    d = np.array([[0]*k]*long)\n",
    "    \n",
    "    for i in range(long):\n",
    "        r = y[i] - 1 \n",
    "        d[i][int(r)] = 1\n",
    "    return d"
   ]
  },
  {
   "cell_type": "code",
   "execution_count": 56,
   "metadata": {},
   "outputs": [],
   "source": [
    "def algo_final(data = merged_data, \n",
    "               nb_clusters=K, \n",
    "               sample=None, \n",
    "               init='rand',\n",
    "               print_mode=True,\n",
    "               cible='grav'):\n",
    "    \n",
    "    y = pd.DataFrame(data[cible])\n",
    "    y = np.array(y)\n",
    "    \n",
    "    \n",
    "    # Encoding\n",
    "    enco = encoding(data)\n",
    "    \n",
    "    # Sampling\n",
    "    if not sample is None:\n",
    "        enco = enco.sample(frac=sample)\n",
    "    \n",
    "    X = np.array(enco)\n",
    "    \n",
    "    \n",
    "    # Init\n",
    "    if init == 'rand':\n",
    "        # Random Init\n",
    "        D = Dinit(len(X), nb_clusters)    \n",
    "        F = Dinit(nb_clusters, len(X[0]))\n",
    "    elif init == 'semi_rand':\n",
    "        D = Dinit(len(X), nb_clusters)    \n",
    "        Y = ykj(D, X)\n",
    "        F = fkj(Y)\n",
    "    elif init == 'perf':\n",
    "        D = Dperfect(len(X), nb_clusters, y)\n",
    "        Y = ykj(D, X)\n",
    "        F = fkj(Y)\n",
    "    else:\n",
    "        from sklearn.decomposition import NMF\n",
    "        model = NMF(n_components=nb_clusters, init='random', random_state=0)\n",
    "        W = model.fit_transform(X)\n",
    "        H = model.components_\n",
    "        W = np.array(W)\n",
    "        H = np.array(H)\n",
    "        D = dik(X,H)\n",
    "        Y = ykj(D, X)\n",
    "        F = fkj(Y)\n",
    "    \n",
    "    \n",
    "    norms = []\n",
    "    \n",
    "    \n",
    "    Onorm = Odist(_D=D, _F=F, _X=X)\n",
    "    \n",
    "    etape = 0\n",
    "    while True:\n",
    "        etape += 1\n",
    "        if print_mode:\n",
    "            print('etape' + '{}'.format(etape))\n",
    "            print(Onorm)\n",
    "            print(\"=================\")\n",
    "        norms.append(Onorm)\n",
    "\n",
    "        D = dik(X,F)\n",
    "        Y = ykj(D,X)\n",
    "        F = fkj(Y)\n",
    "        \n",
    "        Onew = Odist(_D=D, _F=F, _X=X)\n",
    "        \n",
    "        if Onew < Onorm:\n",
    "            Onorm = Onew\n",
    "        else: \n",
    "            break\n",
    "    \n",
    "    result = {'norms': norms, 'D': D, 'F': F}\n",
    "    if print_mode and (len(result['norms']) > 1):\n",
    "        plt.plot(result['norms'])\n",
    "        plt.show()\n",
    "        plt.close()\n",
    "        \n",
    "    os.system('say \"fini\"')\n",
    "    return result"
   ]
  },
  {
   "cell_type": "code",
   "execution_count": 54,
   "metadata": {
    "scrolled": true
   },
   "outputs": [
    {
     "name": "stdout",
     "output_type": "stream",
     "text": [
      "etape1\n",
      "192.704436898\n",
      "=================\n"
     ]
    }
   ],
   "source": [
    "app = algo_final(sample = 0.1, init='perf')"
   ]
  },
  {
   "cell_type": "code",
   "execution_count": 58,
   "metadata": {},
   "outputs": [
    {
     "data": {
      "text/plain": [
       "array([1390,    0,    0,    0])"
      ]
     },
     "execution_count": 58,
     "metadata": {},
     "output_type": "execute_result"
    }
   ],
   "source": [
    "app['D'].sum(axis=0)"
   ]
  },
  {
   "cell_type": "code",
   "execution_count": 55,
   "metadata": {},
   "outputs": [
    {
     "name": "stdout",
     "output_type": "stream",
     "text": [
      "etape1\n",
      "125.65826674\n",
      "=================\n"
     ]
    }
   ],
   "source": [
    "colonnes = ['grav', 'catu', 'catv_gen', 'choc', 'mom', 'catvopp_gen', 'age']\n",
    "data2 = pd.DataFrame(merged_data[colonnes])\n",
    "app2 = algo_final(data=data2, sample=0.1, init='perf')"
   ]
  },
  {
   "cell_type": "code",
   "execution_count": 41,
   "metadata": {
    "scrolled": true
   },
   "outputs": [
    {
     "name": "stdout",
     "output_type": "stream",
     "text": [
      "etape1\n",
      "432.261494931\n",
      "=================\n",
      "etape2\n",
      "402.022387436\n",
      "=================\n",
      "etape3\n",
      "367.472447947\n",
      "=================\n",
      "etape4\n",
      "343.439951083\n",
      "=================\n",
      "etape5\n",
      "338.877559009\n",
      "=================\n"
     ]
    },
    {
     "data": {
      "image/png": "[encoded data removed]",
      "text/plain": [
       "<matplotlib.figure.Figure at 0x1a1e87fcf8>"
      ]
     },
     "metadata": {},
     "output_type": "display_data"
    }
   ],
   "source": [
    "\n",
    "\n"
   ]
  },
  {
   "cell_type": "code",
   "execution_count": 44,
   "metadata": {},
   "outputs": [
    {
     "data": {
      "text/plain": [
       "array([    0,     0,  5892, 17698])"
      ]
     },
     "execution_count": 44,
     "metadata": {},
     "output_type": "execute_result"
    }
   ],
   "source": [
    "app3['D'].sum(axis=0)"
   ]
  },
  {
   "cell_type": "code",
   "execution_count": 39,
   "metadata": {},
   "outputs": [],
   "source": [
    "grav = pd.DataFrame(y)\n",
    "grav.reset_index(inplace=True)\n",
    "grav.drop('index', axis=1, inplace=True)"
   ]
  },
  {
   "cell_type": "code",
   "execution_count": 40,
   "metadata": {
    "scrolled": true
   },
   "outputs": [
    {
     "data": {
      "text/html": [
       "<div>\n",
       "<style>\n",
       "    .dataframe thead tr:only-child th {\n",
       "        text-align: right;\n",
       "    }\n",
       "\n",
       "    .dataframe thead th {\n",
       "        text-align: left;\n",
       "    }\n",
       "\n",
       "    .dataframe tbody tr th {\n",
       "        vertical-align: top;\n",
       "    }\n",
       "</style>\n",
       "<table border=\"1\" class=\"dataframe\">\n",
       "  <thead>\n",
       "    <tr style=\"text-align: right;\">\n",
       "      <th></th>\n",
       "      <th>grav</th>\n",
       "    </tr>\n",
       "  </thead>\n",
       "  <tbody>\n",
       "    <tr>\n",
       "      <th>0</th>\n",
       "      <td>1.0</td>\n",
       "    </tr>\n",
       "    <tr>\n",
       "      <th>1</th>\n",
       "      <td>3.0</td>\n",
       "    </tr>\n",
       "    <tr>\n",
       "      <th>2</th>\n",
       "      <td>3.0</td>\n",
       "    </tr>\n",
       "    <tr>\n",
       "      <th>3</th>\n",
       "      <td>3.0</td>\n",
       "    </tr>\n",
       "    <tr>\n",
       "      <th>4</th>\n",
       "      <td>1.0</td>\n",
       "    </tr>\n",
       "    <tr>\n",
       "      <th>5</th>\n",
       "      <td>3.0</td>\n",
       "    </tr>\n",
       "    <tr>\n",
       "      <th>6</th>\n",
       "      <td>3.0</td>\n",
       "    </tr>\n",
       "    <tr>\n",
       "      <th>7</th>\n",
       "      <td>3.0</td>\n",
       "    </tr>\n",
       "    <tr>\n",
       "      <th>8</th>\n",
       "      <td>3.0</td>\n",
       "    </tr>\n",
       "    <tr>\n",
       "      <th>9</th>\n",
       "      <td>1.0</td>\n",
       "    </tr>\n",
       "    <tr>\n",
       "      <th>10</th>\n",
       "      <td>1.0</td>\n",
       "    </tr>\n",
       "    <tr>\n",
       "      <th>11</th>\n",
       "      <td>1.0</td>\n",
       "    </tr>\n",
       "    <tr>\n",
       "      <th>12</th>\n",
       "      <td>1.0</td>\n",
       "    </tr>\n",
       "    <tr>\n",
       "      <th>13</th>\n",
       "      <td>1.0</td>\n",
       "    </tr>\n",
       "    <tr>\n",
       "      <th>14</th>\n",
       "      <td>3.0</td>\n",
       "    </tr>\n",
       "    <tr>\n",
       "      <th>15</th>\n",
       "      <td>1.0</td>\n",
       "    </tr>\n",
       "    <tr>\n",
       "      <th>16</th>\n",
       "      <td>3.0</td>\n",
       "    </tr>\n",
       "    <tr>\n",
       "      <th>17</th>\n",
       "      <td>1.0</td>\n",
       "    </tr>\n",
       "    <tr>\n",
       "      <th>18</th>\n",
       "      <td>1.0</td>\n",
       "    </tr>\n",
       "    <tr>\n",
       "      <th>19</th>\n",
       "      <td>3.0</td>\n",
       "    </tr>\n",
       "    <tr>\n",
       "      <th>20</th>\n",
       "      <td>1.0</td>\n",
       "    </tr>\n",
       "    <tr>\n",
       "      <th>21</th>\n",
       "      <td>3.0</td>\n",
       "    </tr>\n",
       "    <tr>\n",
       "      <th>22</th>\n",
       "      <td>2.0</td>\n",
       "    </tr>\n",
       "    <tr>\n",
       "      <th>23</th>\n",
       "      <td>1.0</td>\n",
       "    </tr>\n",
       "    <tr>\n",
       "      <th>24</th>\n",
       "      <td>3.0</td>\n",
       "    </tr>\n",
       "    <tr>\n",
       "      <th>25</th>\n",
       "      <td>1.0</td>\n",
       "    </tr>\n",
       "    <tr>\n",
       "      <th>26</th>\n",
       "      <td>1.0</td>\n",
       "    </tr>\n",
       "    <tr>\n",
       "      <th>27</th>\n",
       "      <td>4.0</td>\n",
       "    </tr>\n",
       "    <tr>\n",
       "      <th>28</th>\n",
       "      <td>1.0</td>\n",
       "    </tr>\n",
       "    <tr>\n",
       "      <th>29</th>\n",
       "      <td>3.0</td>\n",
       "    </tr>\n",
       "    <tr>\n",
       "      <th>...</th>\n",
       "      <td>...</td>\n",
       "    </tr>\n",
       "    <tr>\n",
       "      <th>28030</th>\n",
       "      <td>3.0</td>\n",
       "    </tr>\n",
       "    <tr>\n",
       "      <th>28031</th>\n",
       "      <td>2.0</td>\n",
       "    </tr>\n",
       "    <tr>\n",
       "      <th>28032</th>\n",
       "      <td>1.0</td>\n",
       "    </tr>\n",
       "    <tr>\n",
       "      <th>28033</th>\n",
       "      <td>4.0</td>\n",
       "    </tr>\n",
       "    <tr>\n",
       "      <th>28034</th>\n",
       "      <td>3.0</td>\n",
       "    </tr>\n",
       "    <tr>\n",
       "      <th>28035</th>\n",
       "      <td>1.0</td>\n",
       "    </tr>\n",
       "    <tr>\n",
       "      <th>28036</th>\n",
       "      <td>1.0</td>\n",
       "    </tr>\n",
       "    <tr>\n",
       "      <th>28037</th>\n",
       "      <td>4.0</td>\n",
       "    </tr>\n",
       "    <tr>\n",
       "      <th>28038</th>\n",
       "      <td>1.0</td>\n",
       "    </tr>\n",
       "    <tr>\n",
       "      <th>28039</th>\n",
       "      <td>4.0</td>\n",
       "    </tr>\n",
       "    <tr>\n",
       "      <th>28040</th>\n",
       "      <td>4.0</td>\n",
       "    </tr>\n",
       "    <tr>\n",
       "      <th>28041</th>\n",
       "      <td>4.0</td>\n",
       "    </tr>\n",
       "    <tr>\n",
       "      <th>28042</th>\n",
       "      <td>1.0</td>\n",
       "    </tr>\n",
       "    <tr>\n",
       "      <th>28043</th>\n",
       "      <td>2.0</td>\n",
       "    </tr>\n",
       "    <tr>\n",
       "      <th>28044</th>\n",
       "      <td>3.0</td>\n",
       "    </tr>\n",
       "    <tr>\n",
       "      <th>28045</th>\n",
       "      <td>1.0</td>\n",
       "    </tr>\n",
       "    <tr>\n",
       "      <th>28046</th>\n",
       "      <td>4.0</td>\n",
       "    </tr>\n",
       "    <tr>\n",
       "      <th>28047</th>\n",
       "      <td>4.0</td>\n",
       "    </tr>\n",
       "    <tr>\n",
       "      <th>28048</th>\n",
       "      <td>4.0</td>\n",
       "    </tr>\n",
       "    <tr>\n",
       "      <th>28049</th>\n",
       "      <td>3.0</td>\n",
       "    </tr>\n",
       "    <tr>\n",
       "      <th>28050</th>\n",
       "      <td>3.0</td>\n",
       "    </tr>\n",
       "    <tr>\n",
       "      <th>28051</th>\n",
       "      <td>1.0</td>\n",
       "    </tr>\n",
       "    <tr>\n",
       "      <th>28052</th>\n",
       "      <td>1.0</td>\n",
       "    </tr>\n",
       "    <tr>\n",
       "      <th>28053</th>\n",
       "      <td>3.0</td>\n",
       "    </tr>\n",
       "    <tr>\n",
       "      <th>28054</th>\n",
       "      <td>4.0</td>\n",
       "    </tr>\n",
       "    <tr>\n",
       "      <th>28055</th>\n",
       "      <td>1.0</td>\n",
       "    </tr>\n",
       "    <tr>\n",
       "      <th>28056</th>\n",
       "      <td>3.0</td>\n",
       "    </tr>\n",
       "    <tr>\n",
       "      <th>28057</th>\n",
       "      <td>1.0</td>\n",
       "    </tr>\n",
       "    <tr>\n",
       "      <th>28058</th>\n",
       "      <td>3.0</td>\n",
       "    </tr>\n",
       "    <tr>\n",
       "      <th>28059</th>\n",
       "      <td>4.0</td>\n",
       "    </tr>\n",
       "  </tbody>\n",
       "</table>\n",
       "<p>28060 rows × 1 columns</p>\n",
       "</div>"
      ],
      "text/plain": [
       "       grav\n",
       "0       1.0\n",
       "1       3.0\n",
       "2       3.0\n",
       "3       3.0\n",
       "4       1.0\n",
       "5       3.0\n",
       "6       3.0\n",
       "7       3.0\n",
       "8       3.0\n",
       "9       1.0\n",
       "10      1.0\n",
       "11      1.0\n",
       "12      1.0\n",
       "13      1.0\n",
       "14      3.0\n",
       "15      1.0\n",
       "16      3.0\n",
       "17      1.0\n",
       "18      1.0\n",
       "19      3.0\n",
       "20      1.0\n",
       "21      3.0\n",
       "22      2.0\n",
       "23      1.0\n",
       "24      3.0\n",
       "25      1.0\n",
       "26      1.0\n",
       "27      4.0\n",
       "28      1.0\n",
       "29      3.0\n",
       "...     ...\n",
       "28030   3.0\n",
       "28031   2.0\n",
       "28032   1.0\n",
       "28033   4.0\n",
       "28034   3.0\n",
       "28035   1.0\n",
       "28036   1.0\n",
       "28037   4.0\n",
       "28038   1.0\n",
       "28039   4.0\n",
       "28040   4.0\n",
       "28041   4.0\n",
       "28042   1.0\n",
       "28043   2.0\n",
       "28044   3.0\n",
       "28045   1.0\n",
       "28046   4.0\n",
       "28047   4.0\n",
       "28048   4.0\n",
       "28049   3.0\n",
       "28050   3.0\n",
       "28051   1.0\n",
       "28052   1.0\n",
       "28053   3.0\n",
       "28054   4.0\n",
       "28055   1.0\n",
       "28056   3.0\n",
       "28057   1.0\n",
       "28058   3.0\n",
       "28059   4.0\n",
       "\n",
       "[28060 rows x 1 columns]"
      ]
     },
     "execution_count": 40,
     "metadata": {},
     "output_type": "execute_result"
    }
   ],
   "source": [
    "grav"
   ]
  },
  {
   "cell_type": "code",
   "execution_count": null,
   "metadata": {
    "collapsed": true
   },
   "outputs": [],
   "source": []
  }
 ],
 "metadata": {
  "kernelspec": {
   "display_name": "Python 3",
   "language": "python",
   "name": "python3"
  },
  "language_info": {
   "codemirror_mode": {
    "name": "ipython",
    "version": 3
   },
   "file_extension": ".py",
   "mimetype": "text/x-python",
   "name": "python",
   "nbconvert_exporter": "python",
   "pygments_lexer": "ipython3",
   "version": "3.6.0"
  }
 },
 "nbformat": 4,
 "nbformat_minor": 2
}
