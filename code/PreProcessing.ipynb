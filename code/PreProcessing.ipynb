{
 "cells": [
  {
   "cell_type": "code",
   "execution_count": 51,
   "metadata": {
    "collapsed": true
   },
   "outputs": [],
   "source": [
    "import os\n",
    "import csv\n",
    "import sys\n",
    "import ast\n",
    "import pymysql.cursors\n",
    "import decimal\n",
    "from decimal import Decimal\n",
    "import pandas as pd\n",
    "import numpy as np"
   ]
  },
  {
   "cell_type": "code",
   "execution_count": 52,
   "metadata": {
    "collapsed": true
   },
   "outputs": [],
   "source": [
    "path_import = '../data/'\n",
    "#path_import = 'C:/Users/Loic/Documents/TP_AccidentsRouteLyon/data/'\n",
    "data_caracteristiques_file = 'caracteristiques_2016.csv'\n",
    "data_lieux_file = 'lieux_2016.csv'\n",
    "data_usagers_file = 'usagers_2016.csv'\n",
    "data_vehicules_file = 'vehicules_2016.csv'"
   ]
  },
  {
   "cell_type": "code",
   "execution_count": 53,
   "metadata": {
    "collapsed": true
   },
   "outputs": [],
   "source": [
    "path_export = '../result/'\n",
    "#path_export = 'C:/Users/Loic/Documents/TP_AccidentsRouteLyon/data/'\n",
    "result_file = 'the_result_file.csv'"
   ]
  },
  {
   "cell_type": "code",
   "execution_count": 54,
   "metadata": {
    "collapsed": true
   },
   "outputs": [],
   "source": [
    "column_type_caracteristiques = {'Num_Acc': np.int64}\n",
    "column_type_usagers = {'Num_Acc': np.int64}\n",
    "column_type_vehicules = {'Num_Acc': np.int64}\n",
    "column_type_lieux = {'Num_Acc': np.int64,\n",
    "                        'catr': np.int64,\n",
    "                        'voie': np.string_,\n",
    "                        'v1':np.float64,\n",
    "                        'v2':np.string_,\n",
    "                        'circ':np.float64,\n",
    "                        'nbv':np.float64,\n",
    "                        'pr':np.float64,\n",
    "                        'pr1':np.float64,\n",
    "                        'vosp':np.float64,\n",
    "                        'prof':np.float64,\n",
    "                        'plan':np.float64,\n",
    "                        'lartpc':np.float64,\n",
    "                        'larrout':np.float64,\n",
    "                        'surf':np.float64,\n",
    "                        'infra':np.float64,\n",
    "                        'situ':np.float64,\n",
    "                        'env1':np.float64}\n",
    "\n",
    "columns_unuseful = ['trajet',\n",
    "                    'an',\n",
    "                    'com',\n",
    "                    'adr',\n",
    "                    'lat',\n",
    "                    'long',\n",
    "                    'dep']\n",
    "\n",
    "vehicule_classique = [7,10]\n",
    "vehicule_air_libre = [1,2,30,31,32,33,34,35,36]\n",
    "vehicule_lourd = [13,14,15,16,17,37,38,39,40]\n",
    "\n",
    "### decoupe_journee aurait mérite à etre clusterisée\n",
    "decoupe_journee = [[0,559],[600,1159],[1200,1359],[1400,1759],[1800,2159], [2200,2401] ]\n",
    "ct_several_veh = 0\n",
    "\n",
    "decoupe_age = [[0,15],[15,25],[25,45],[45,65],[65,120]]"
   ]
  },
  {
   "cell_type": "code",
   "execution_count": 55,
   "metadata": {
    "collapsed": true
   },
   "outputs": [],
   "source": [
    "export_mode = True"
   ]
  },
  {
   "cell_type": "code",
   "execution_count": 56,
   "metadata": {
    "collapsed": true
   },
   "outputs": [],
   "source": [
    "def journee_decoupe(_integer):\n",
    "    global decoupe_journee\n",
    "\n",
    "    for moment in range(0,len(decoupe_journee)):\n",
    "        if (decoupe_journee[moment][0] <= _integer) and (_integer <= decoupe_journee[moment][1]):\n",
    "            result = moment\n",
    "            break\n",
    "\n",
    "    return result\n",
    "\n",
    "def age_decoupe(_integer):\n",
    "    global decoupe_age\n",
    "    \n",
    "    result =-1\n",
    "    for tranche in decoupe_age:\n",
    "        result += 1\n",
    "        if (tranche[0] <= _integer) and (_integer <= tranche[1]):\n",
    "            break\n",
    "    return result"
   ]
  },
  {
   "cell_type": "code",
   "execution_count": 57,
   "metadata": {
    "collapsed": true
   },
   "outputs": [],
   "source": [
    "def vehicule_type(_int):\n",
    "    if _int in vehicule_air_libre:\n",
    "        return 1\n",
    "    elif _int in vehicule_classique:\n",
    "        return 2\n",
    "    elif _int in vehicule_lourd:\n",
    "        return 3\n",
    "    else:\n",
    "        return 0"
   ]
  },
  {
   "cell_type": "code",
   "execution_count": 58,
   "metadata": {
    "collapsed": true
   },
   "outputs": [],
   "source": [
    "def vehicule_oppose(_string, _data, _catv):\n",
    "    global ct_several_veh\n",
    "\n",
    "    liste_vehicules = list(set(merged_data[merged_data.Num_Acc == _string]['catv']))\n",
    "    liste_vehicules.remove(_catv)\n",
    "    if len(liste_vehicules) == 1:\n",
    "        return liste_vehicules[0]\n",
    "    elif len(liste_vehicules) == 0:\n",
    "        return _catv\n",
    "    else:\n",
    "        ct_several_veh += 1\n",
    "        return liste_vehicules[0]"
   ]
  },
  {
   "cell_type": "code",
   "execution_count": 59,
   "metadata": {
    "collapsed": true
   },
   "outputs": [],
   "source": [
    "data_vehicules = pd.read_csv(path_import + data_vehicules_file, dtype = column_type_vehicules)\n",
    "data_vehicules.fillna(0, inplace = True)\n",
    "\n",
    "data_usagers = pd.read_csv(path_import + data_usagers_file, dtype = column_type_usagers)\n",
    "data_usagers.fillna(0, inplace = True)\n",
    "\n",
    "data_lieux = pd.read_csv(path_import + data_lieux_file, dtype = column_type_lieux,error_bad_lines=False)\n",
    "data_lieux.fillna(0, inplace = True)\n",
    "\n",
    "data_caracteristiques = pd.read_csv(path_import + data_caracteristiques_file, dtype = column_type_caracteristiques, sep = \";\")\n",
    "data_caracteristiques.fillna(0, inplace = True)"
   ]
  },
  {
   "cell_type": "code",
   "execution_count": 60,
   "metadata": {
    "collapsed": true
   },
   "outputs": [],
   "source": [
    "data_usagers = data_usagers.sort_values('Num_Acc')\n",
    "\n",
    "data_vehicules = data_vehicules.sort_values('Num_Acc')\n",
    "merged_data = pd.merge(data_usagers ,data_vehicules, on = ['Num_Acc','num_veh'], how = 'inner')\n",
    "merged_data = pd.merge(merged_data ,data_caracteristiques, on = 'Num_Acc', how = 'inner')\n",
    "\n",
    "merged_data = merged_data.drop_duplicates()\n",
    "\n",
    "\n",
    "merged_data = merged_data.drop(columns_unuseful, axis = 1)\n",
    "### On va rester dans la métropole : \n",
    "merged_data = merged_data[merged_data.gps == 'M']\n",
    "merged_data = merged_data.drop('gps', axis = 1)\n",
    "\n",
    "\n",
    "### merged_data['num_veh_x'] = merged_data['num_veh_x'].apply(lambda x: str(x))\n",
    "### petite boucle\n",
    "merged_data['mom'] = merged_data.apply(lambda x: journee_decoupe(x['hrmn']), axis=1)\n",
    "merged_data['age'] = list(map(lambda x: age_decoupe(2016 - x), merged_data['an_nais']))\n",
    "\n",
    "\n",
    "### merged_data.info()\n",
    "isnull_essai = data_lieux.isnull()\n",
    "\n",
    "\n",
    "merged_data.groupby(['Num_Acc'])\n",
    "\n",
    "### Petite boucle pour trouver le vehicule 'adverse'\n",
    "\n",
    "merged_data['catvopp'] = merged_data.apply(lambda x: vehicule_oppose(x['Num_Acc'],merged_data, x['catv']), axis=1)\n",
    "merged_data['catv_gen'] = merged_data.apply(lambda x: vehicule_type(x['catv']), axis=1)\n",
    "merged_data['catvopp_gen'] = merged_data.apply(lambda x: vehicule_type(x['catvopp']), axis=1)\n",
    "\n",
    "\n",
    "\n",
    "colonnes_inutiles = ['num_veh','Num_Acc',\n",
    "                                'locp',\n",
    "                                'actp',\n",
    "                                'etatp',\n",
    "                                'catv',\n",
    "                                'hrmn',\n",
    "                                'mois',\n",
    "                                'jour',\n",
    "                                'catvopp',\n",
    "                                'occutc',\n",
    "                                'place',\n",
    "                                'an_nais']\n",
    "\n",
    "merged_data = merged_data.drop(colonnes_inutiles,axis = 1)\n",
    "\n"
   ]
  },
  {
   "cell_type": "markdown",
   "metadata": {},
   "source": [
    "Detection d'outliers."
   ]
  },
  {
   "cell_type": "code",
   "execution_count": null,
   "metadata": {
    "collapsed": true
   },
   "outputs": [],
   "source": []
  },
  {
   "cell_type": "code",
   "execution_count": 61,
   "metadata": {
    "collapsed": true
   },
   "outputs": [],
   "source": [
    "from sklearn.ensemble import IsolationForest\n",
    "\n",
    "clf = IsolationForest(n_estimators=1000, n_jobs=-1)\n",
    "clf.fit(merged_data)\n",
    "prediction  = clf.predict(merged_data)"
   ]
  },
  {
   "cell_type": "code",
   "execution_count": 62,
   "metadata": {
    "collapsed": true
   },
   "outputs": [],
   "source": [
    "prediction = pd.DataFrame(prediction)\n",
    "merged_data = pd.concat([merged_data, prediction], axis=1)"
   ]
  },
  {
   "cell_type": "code",
   "execution_count": 63,
   "metadata": {
    "collapsed": true
   },
   "outputs": [],
   "source": [
    "cleaned_data = merged_data.loc[merged_data[0] == 1]\n",
    "cleaned_data = cleaned_data.drop(0,axis = 1)"
   ]
  },
  {
   "cell_type": "code",
   "execution_count": 64,
   "metadata": {
    "collapsed": true
   },
   "outputs": [],
   "source": [
    "if export_mode:\n",
    "    cleaned_data.to_csv(path_export + result_file)"
   ]
  },
  {
   "cell_type": "code",
   "execution_count": 65,
   "metadata": {},
   "outputs": [
    {
     "data": {
      "text/html": [
       "<div>\n",
       "<style>\n",
       "    .dataframe thead tr:only-child th {\n",
       "        text-align: right;\n",
       "    }\n",
       "\n",
       "    .dataframe thead th {\n",
       "        text-align: left;\n",
       "    }\n",
       "\n",
       "    .dataframe tbody tr th {\n",
       "        vertical-align: top;\n",
       "    }\n",
       "</style>\n",
       "<table border=\"1\" class=\"dataframe\">\n",
       "  <thead>\n",
       "    <tr style=\"text-align: right;\">\n",
       "      <th></th>\n",
       "      <th>catu</th>\n",
       "      <th>grav</th>\n",
       "      <th>sexe</th>\n",
       "      <th>secu</th>\n",
       "      <th>senc</th>\n",
       "      <th>obs</th>\n",
       "      <th>obsm</th>\n",
       "      <th>choc</th>\n",
       "      <th>manv</th>\n",
       "      <th>lum</th>\n",
       "      <th>agg</th>\n",
       "      <th>int</th>\n",
       "      <th>atm</th>\n",
       "      <th>col</th>\n",
       "      <th>mom</th>\n",
       "      <th>age</th>\n",
       "      <th>catv_gen</th>\n",
       "      <th>catvopp_gen</th>\n",
       "    </tr>\n",
       "  </thead>\n",
       "  <tbody>\n",
       "    <tr>\n",
       "      <th>0</th>\n",
       "      <td>1.0</td>\n",
       "      <td>1.0</td>\n",
       "      <td>2.0</td>\n",
       "      <td>11.0</td>\n",
       "      <td>0.0</td>\n",
       "      <td>0.0</td>\n",
       "      <td>0.0</td>\n",
       "      <td>1.0</td>\n",
       "      <td>1.0</td>\n",
       "      <td>1.0</td>\n",
       "      <td>2.0</td>\n",
       "      <td>1.0</td>\n",
       "      <td>8.0</td>\n",
       "      <td>3.0</td>\n",
       "      <td>3.0</td>\n",
       "      <td>2.0</td>\n",
       "      <td>2.0</td>\n",
       "      <td>1.0</td>\n",
       "    </tr>\n",
       "    <tr>\n",
       "      <th>2</th>\n",
       "      <td>1.0</td>\n",
       "      <td>3.0</td>\n",
       "      <td>1.0</td>\n",
       "      <td>11.0</td>\n",
       "      <td>0.0</td>\n",
       "      <td>6.0</td>\n",
       "      <td>0.0</td>\n",
       "      <td>1.0</td>\n",
       "      <td>1.0</td>\n",
       "      <td>1.0</td>\n",
       "      <td>2.0</td>\n",
       "      <td>6.0</td>\n",
       "      <td>1.0</td>\n",
       "      <td>6.0</td>\n",
       "      <td>4.0</td>\n",
       "      <td>3.0</td>\n",
       "      <td>2.0</td>\n",
       "      <td>2.0</td>\n",
       "    </tr>\n",
       "    <tr>\n",
       "      <th>3</th>\n",
       "      <td>2.0</td>\n",
       "      <td>3.0</td>\n",
       "      <td>1.0</td>\n",
       "      <td>11.0</td>\n",
       "      <td>0.0</td>\n",
       "      <td>6.0</td>\n",
       "      <td>0.0</td>\n",
       "      <td>1.0</td>\n",
       "      <td>1.0</td>\n",
       "      <td>1.0</td>\n",
       "      <td>2.0</td>\n",
       "      <td>6.0</td>\n",
       "      <td>1.0</td>\n",
       "      <td>6.0</td>\n",
       "      <td>4.0</td>\n",
       "      <td>1.0</td>\n",
       "      <td>2.0</td>\n",
       "      <td>2.0</td>\n",
       "    </tr>\n",
       "    <tr>\n",
       "      <th>4</th>\n",
       "      <td>2.0</td>\n",
       "      <td>3.0</td>\n",
       "      <td>2.0</td>\n",
       "      <td>11.0</td>\n",
       "      <td>0.0</td>\n",
       "      <td>6.0</td>\n",
       "      <td>0.0</td>\n",
       "      <td>1.0</td>\n",
       "      <td>1.0</td>\n",
       "      <td>1.0</td>\n",
       "      <td>2.0</td>\n",
       "      <td>6.0</td>\n",
       "      <td>1.0</td>\n",
       "      <td>6.0</td>\n",
       "      <td>4.0</td>\n",
       "      <td>3.0</td>\n",
       "      <td>2.0</td>\n",
       "      <td>2.0</td>\n",
       "    </tr>\n",
       "    <tr>\n",
       "      <th>5</th>\n",
       "      <td>1.0</td>\n",
       "      <td>1.0</td>\n",
       "      <td>1.0</td>\n",
       "      <td>11.0</td>\n",
       "      <td>0.0</td>\n",
       "      <td>0.0</td>\n",
       "      <td>1.0</td>\n",
       "      <td>6.0</td>\n",
       "      <td>1.0</td>\n",
       "      <td>1.0</td>\n",
       "      <td>1.0</td>\n",
       "      <td>1.0</td>\n",
       "      <td>1.0</td>\n",
       "      <td>6.0</td>\n",
       "      <td>4.0</td>\n",
       "      <td>1.0</td>\n",
       "      <td>2.0</td>\n",
       "      <td>2.0</td>\n",
       "    </tr>\n",
       "  </tbody>\n",
       "</table>\n",
       "</div>"
      ],
      "text/plain": [
       "   catu  grav  sexe  secu  senc  obs  obsm  choc  manv  lum  agg  int  atm  \\\n",
       "0   1.0   1.0   2.0  11.0   0.0  0.0   0.0   1.0   1.0  1.0  2.0  1.0  8.0   \n",
       "2   1.0   3.0   1.0  11.0   0.0  6.0   0.0   1.0   1.0  1.0  2.0  6.0  1.0   \n",
       "3   2.0   3.0   1.0  11.0   0.0  6.0   0.0   1.0   1.0  1.0  2.0  6.0  1.0   \n",
       "4   2.0   3.0   2.0  11.0   0.0  6.0   0.0   1.0   1.0  1.0  2.0  6.0  1.0   \n",
       "5   1.0   1.0   1.0  11.0   0.0  0.0   1.0   6.0   1.0  1.0  1.0  1.0  1.0   \n",
       "\n",
       "   col  mom  age  catv_gen  catvopp_gen  \n",
       "0  3.0  3.0  2.0       2.0          1.0  \n",
       "2  6.0  4.0  3.0       2.0          2.0  \n",
       "3  6.0  4.0  1.0       2.0          2.0  \n",
       "4  6.0  4.0  3.0       2.0          2.0  \n",
       "5  6.0  4.0  1.0       2.0          2.0  "
      ]
     },
     "execution_count": 65,
     "metadata": {},
     "output_type": "execute_result"
    }
   ],
   "source": [
    "cleaned_data.head()"
   ]
  },
  {
   "cell_type": "code",
   "execution_count": null,
   "metadata": {
    "collapsed": true
   },
   "outputs": [],
   "source": []
  },
  {
   "cell_type": "code",
   "execution_count": null,
   "metadata": {
    "collapsed": true
   },
   "outputs": [],
   "source": []
  },
  {
   "cell_type": "code",
   "execution_count": null,
   "metadata": {
    "collapsed": true
   },
   "outputs": [],
   "source": []
  }
 ],
 "metadata": {
  "kernelspec": {
   "display_name": "Python 3",
   "language": "python",
   "name": "python3"
  },
  "language_info": {
   "codemirror_mode": {
    "name": "ipython",
    "version": 3
   },
   "file_extension": ".py",
   "mimetype": "text/x-python",
   "name": "python",
   "nbconvert_exporter": "python",
   "pygments_lexer": "ipython3",
   "version": "3.6.0"
  }
 },
 "nbformat": 4,
 "nbformat_minor": 2
}
