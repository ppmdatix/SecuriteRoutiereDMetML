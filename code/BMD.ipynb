{
 "cells": [
  {
   "cell_type": "code",
   "execution_count": 1,
   "metadata": {
    "collapsed": true
   },
   "outputs": [],
   "source": [
    "import pandas as pd\n",
    "import os\n",
    "import numpy as np\n",
    "from matplotlib import pyplot as plt\n",
    "import random as rd"
   ]
  },
  {
   "cell_type": "code",
   "execution_count": 2,
   "metadata": {
    "collapsed": true
   },
   "outputs": [],
   "source": [
    "merged_data = pd.read_csv(\"../result/the_result_file.csv\", index_col=0)\n",
    "merged_data.dropna(inplace=True)\n",
    "\n",
    "y = merged_data.grav\n",
    "merged_data_sans_grav = merged_data.drop(['grav'],axis = 1)"
   ]
  },
  {
   "cell_type": "code",
   "execution_count": 3,
   "metadata": {
    "collapsed": true
   },
   "outputs": [],
   "source": [
    "def encoding(data):\n",
    "    colnames = data.columns\n",
    "    \n",
    "    result = pd.DataFrame(index=data.index)\n",
    "    \n",
    "    for colname in colnames:\n",
    "        dum = pd.get_dummies(data[colname], prefix=colname)\n",
    "        result = pd.merge(result, dum, left_index=True, right_index=True)\n",
    "    return result\n",
    "\n",
    "\n",
    "encoded = encoding(merged_data)"
   ]
  },
  {
   "cell_type": "code",
   "execution_count": 4,
   "metadata": {
    "collapsed": true,
    "scrolled": true
   },
   "outputs": [],
   "source": [
    "X = encoded"
   ]
  },
  {
   "cell_type": "code",
   "execution_count": 5,
   "metadata": {
    "collapsed": true
   },
   "outputs": [],
   "source": [
    "n = len(X)"
   ]
  },
  {
   "cell_type": "code",
   "execution_count": 6,
   "metadata": {
    "collapsed": true
   },
   "outputs": [],
   "source": [
    "r = len(X.columns)"
   ]
  },
  {
   "cell_type": "code",
   "execution_count": 7,
   "metadata": {
    "collapsed": true
   },
   "outputs": [],
   "source": [
    "K = 4"
   ]
  },
  {
   "cell_type": "code",
   "execution_count": 8,
   "metadata": {
    "collapsed": true
   },
   "outputs": [],
   "source": [
    "def Odist( _D, _F, _X=X):\n",
    "    _D = np.matrix(_D)\n",
    "    _F = np.matrix(_F)\n",
    "    _X = np.matrix(_X)\n",
    "    \n",
    "    mat = _X - _D.dot(_F)\n",
    "    \n",
    "    dist = np.linalg.norm(mat)\n",
    "    return dist\n",
    "    "
   ]
  },
  {
   "cell_type": "code",
   "execution_count": 9,
   "metadata": {
    "collapsed": true
   },
   "outputs": [],
   "source": [
    "def ykj(d,x):\n",
    "    n=len(x)\n",
    "    r = len(x[0])\n",
    "    y = np.zeros((K, r))\n",
    "    \n",
    "    for k in range(0,K):\n",
    "        nk = 0\n",
    "        for i in range(0,n):\n",
    "            nk = nk + d[i][k]\n",
    "        if not nk == 0:\n",
    "            for j in range(0,r):\n",
    "                for i in range(0,n):\n",
    "                    y[k][j] = y[k][j] + d[i][k]*x[i][j]\n",
    "                y[k][j] = y[k][j] / nk\n",
    "    return y\n",
    "            \n",
    "\n",
    "\n",
    "def fkj(y):\n",
    "    f = y > 0.5\n",
    "    f = f.astype(int)\n",
    "    return f"
   ]
  },
  {
   "cell_type": "code",
   "execution_count": 10,
   "metadata": {
    "collapsed": true
   },
   "outputs": [],
   "source": [
    "def somme23(f, i, k, x):\n",
    "    r = len(x[0])\n",
    "    s = 0\n",
    "    for j in range(0,r):\n",
    "        s = s + (x[i][j] - f[k][j])*(x[i][j] - f[k][j])\n",
    "    return s\n",
    "\n",
    "def dik(x, f):\n",
    "    n = len(x)\n",
    "    d = np.array([[1]*K]*n)\n",
    "    \n",
    "    for i in range(n):\n",
    "        for k in range(K):\n",
    "            sk = somme23(f, i ,k, x)\n",
    "            for l in range(K):\n",
    "                if not l==k:\n",
    "                    sl = somme23(f, i ,l, x)\n",
    "                    if sl <= sk:\n",
    "                        d[i][k] = 0\n",
    "                        \n",
    "    return d"
   ]
  },
  {
   "cell_type": "code",
   "execution_count": 11,
   "metadata": {
    "collapsed": true
   },
   "outputs": [],
   "source": [
    "def Dinit(long, k):\n",
    "    d = np.array([[0]*k]*long)\n",
    "    \n",
    "    for i in range(long):\n",
    "        r = rd.randint(0,k-1)\n",
    "        d[i][r] = 1\n",
    "    return d"
   ]
  },
  {
   "cell_type": "code",
   "execution_count": 12,
   "metadata": {
    "collapsed": true
   },
   "outputs": [],
   "source": [
    "def Dperfect(long, k, y):\n",
    "    d = np.array([[0]*k]*long)\n",
    "    \n",
    "    for i in range(long):\n",
    "        r = y[i] - 1 \n",
    "        d[i][int(r)] = 1\n",
    "    return d"
   ]
  },
  {
   "cell_type": "code",
   "execution_count": 23,
   "metadata": {
    "collapsed": true
   },
   "outputs": [],
   "source": [
    "def algo_final(data = merged_data, \n",
    "               nb_clusters=K, \n",
    "               sample=None, \n",
    "               init='rand',\n",
    "               print_mode=True,\n",
    "               cible='grav'):\n",
    "    \n",
    "    y = pd.DataFrame(data[cible])\n",
    "    y = np.array(y)\n",
    "    \n",
    "    \n",
    "    # Encoding\n",
    "    enco = encoding(data)\n",
    "    \n",
    "    # Sampling\n",
    "    if not sample is None:\n",
    "        enco = enco.sample(frac=sample)\n",
    "    \n",
    "    X = np.array(enco)\n",
    "    \n",
    "    \n",
    "    # Init\n",
    "    if init == 'rand':\n",
    "        # Random Init\n",
    "        D = Dinit(len(X), nb_clusters)    \n",
    "        F = Dinit(nb_clusters, len(X[0]))\n",
    "    elif init == 'semi_rand':\n",
    "        D = Dinit(len(X), nb_clusters)    \n",
    "        Y = ykj(D, X)\n",
    "        F = fkj(Y)\n",
    "    elif init == 'perf':\n",
    "        D = Dperfect(len(X), nb_clusters, y)\n",
    "        Y = ykj(D, X)\n",
    "        F = fkj(Y)\n",
    "    else:\n",
    "        from sklearn.decomposition import NMF\n",
    "        model = NMF(n_components=nb_clusters, init='random', random_state=0)\n",
    "        W = model.fit_transform(X)\n",
    "        H = model.components_\n",
    "        W = np.array(W)\n",
    "        H = np.array(H)\n",
    "        D = dik(X,H)\n",
    "        Y = ykj(D, X)\n",
    "        F = fkj(Y)\n",
    "    \n",
    "    \n",
    "    norms = []\n",
    "    \n",
    "    \n",
    "    Onorm = Odist(_D=D, _F=F, _X=X)\n",
    "    \n",
    "    etape = 0\n",
    "    while True:\n",
    "        etape += 1\n",
    "        if print_mode:\n",
    "            print('etape ' + '{}'.format(etape))\n",
    "            print(Onorm)\n",
    "            print(\"=================\")\n",
    "        norms.append(Onorm)\n",
    "\n",
    "        D1 = dik(X,F)\n",
    "        Y1 = ykj(D1,X)\n",
    "        F1 = fkj(Y1)\n",
    "        \n",
    "        Onew = Odist(_D=D1, _F=F1, _X=X)\n",
    "        \n",
    "        if Onew < Onorm:\n",
    "            Onorm = Onew\n",
    "            D = D1\n",
    "            Y = Y1\n",
    "            F = F1\n",
    "        else: \n",
    "            break\n",
    "    \n",
    "    result = {'norms': norms, 'D': D, 'F': F}\n",
    "    if print_mode and (len(result['norms']) > 1):\n",
    "        plt.plot(result['norms'])\n",
    "        plt.show()\n",
    "        plt.close()\n",
    "        \n",
    "    os.system('say \"fini\"')\n",
    "    return result"
   ]
  },
  {
   "cell_type": "code",
   "execution_count": 21,
   "metadata": {
    "scrolled": false
   },
   "outputs": [
    {
     "name": "stdout",
     "output_type": "stream",
     "text": [
      "etape1\n",
      "228.324330723\n",
      "=================\n",
      "etape2\n",
      "198.43134833\n",
      "=================\n",
      "etape3\n",
      "187.085541932\n",
      "=================\n",
      "etape4\n",
      "184.740358341\n",
      "=================\n",
      "etape5\n",
      "181.7305698\n",
      "=================\n"
     ]
    },
    {
     "data": {
      "image/png": "[encoded data removed]",
      "text/plain": [
       "<matplotlib.figure.Figure at 0x11373ae10>"
      ]
     },
     "metadata": {},
     "output_type": "display_data"
    }
   ],
   "source": [
    "app = algo_final(sample = 0.1, init='rand')"
   ]
  },
  {
   "cell_type": "code",
   "execution_count": 22,
   "metadata": {},
   "outputs": [
    {
     "name": "stdout",
     "output_type": "stream",
     "text": [
      "etape1\n",
      "113.736537665\n",
      "=================\n",
      "etape2\n",
      "111.789981662\n",
      "=================\n"
     ]
    },
    {
     "data": {
      "image/png": "[encoded data removed]",
      "text/plain": [
       "<matplotlib.figure.Figure at 0x108b18160>"
      ]
     },
     "metadata": {},
     "output_type": "display_data"
    }
   ],
   "source": [
    "colonnes = ['grav', 'catu', 'catv_gen', 'choc', 'mom', 'catvopp_gen', 'age']\n",
    "data2 = pd.DataFrame(merged_data[colonnes])\n",
    "app2 = algo_final(data=data2, sample=0.1, init='else')"
   ]
  },
  {
   "cell_type": "code",
   "execution_count": 29,
   "metadata": {},
   "outputs": [
    {
     "name": "stdout",
     "output_type": "stream",
     "text": [
      "etape 1\n",
      "446.95637371\n",
      "=================\n",
      "etape 2\n",
      "427.334763388\n",
      "=================\n",
      "etape 3\n",
      "360.59395447\n",
      "=================\n",
      "etape 4\n",
      "350.004285688\n",
      "=================\n",
      "etape 5\n",
      "345.895938109\n",
      "=================\n",
      "etape 6\n",
      "343.82117445\n",
      "=================\n"
     ]
    },
    {
     "data": {
      "image/png": "[encoded data removed]",
      "text/plain": [
       "<matplotlib.figure.Figure at 0x112c65160>"
      ]
     },
     "metadata": {},
     "output_type": "display_data"
    }
   ],
   "source": [
    "colonnes = ['grav', 'catv_gen', 'choc', 'mom', 'catvopp_gen', 'agg', 'int']\n",
    "data3 = pd.DataFrame(merged_data[colonnes])\n",
    "app3 = algo_final(data=data3, sample=None, init='rand')"
   ]
  },
  {
   "cell_type": "code",
   "execution_count": 70,
   "metadata": {},
   "outputs": [],
   "source": [
    "def qualite(table, cible):\n",
    "    cible = np.array(cible)\n",
    "    table = np.array(table)\n",
    "    longueur = len(cible)\n",
    "    \n",
    "    import itertools\n",
    "    perms = list(itertools.permutations([0, 1, 2, 3]))\n",
    "    pcts = []\n",
    "    for perm in perms:\n",
    "        pct = 0\n",
    "        for i in range(longueur):\n",
    "            j = int( cible[i] - 1 )\n",
    "            if table[i][perm[j]] == 1:\n",
    "                pct += 1\n",
    "        pct = pct / longueur\n",
    "        pcts.append(pct)\n",
    "        \n",
    "    argmax = pcts.index(max(pcts))\n",
    "    pct = pcts[argmax]\n",
    "    \n",
    "    print(pct)\n",
    "    print(perms[argmax])\n",
    "    return pct\n",
    "    "
   ]
  },
  {
   "cell_type": "code",
   "execution_count": 71,
   "metadata": {},
   "outputs": [
    {
     "name": "stdout",
     "output_type": "stream",
     "text": [
      "0.3919458303635068\n",
      "(0, 2, 1, 3)\n"
     ]
    }
   ],
   "source": [
    "q3 = qualite(app3['D'], y)"
   ]
  },
  {
   "cell_type": "code",
   "execution_count": 72,
   "metadata": {},
   "outputs": [
    {
     "name": "stdout",
     "output_type": "stream",
     "text": [
      "etape 1\n",
      "334.870124078\n",
      "=================\n",
      "0.40894511760513186\n",
      "(0, 1, 3, 2)\n"
     ]
    }
   ],
   "source": [
    "colonnes = ['grav', 'catv_gen', 'choc', 'mom', 'catvopp_gen', 'agg', 'int']\n",
    "data4 = pd.DataFrame(merged_data[colonnes])\n",
    "app4 = algo_final(data=data4, sample=None, init='else')\n",
    "q4 = qualite(app4['D'], y)"
   ]
  },
  {
   "cell_type": "code",
   "execution_count": null,
   "metadata": {},
   "outputs": [
    {
     "name": "stdout",
     "output_type": "stream",
     "text": [
      "etape 1\n",
      "727.162980356\n",
      "=================\n",
      "etape 2\n",
      "670.798777578\n",
      "=================\n",
      "etape 3\n",
      "588.310292278\n",
      "=================\n"
     ]
    }
   ],
   "source": [
    "app5 = algo_final(data=merged_data, sample=None, init='rand')\n",
    "q4 = qualite(app5['D'], y)"
   ]
  },
  {
   "cell_type": "code",
   "execution_count": null,
   "metadata": {
    "collapsed": true
   },
   "outputs": [],
   "source": []
  }
 ],
 "metadata": {
  "kernelspec": {
   "display_name": "Python 3",
   "language": "python",
   "name": "python3"
  },
  "language_info": {
   "codemirror_mode": {
    "name": "ipython",
    "version": 3
   },
   "file_extension": ".py",
   "mimetype": "text/x-python",
   "name": "python",
   "nbconvert_exporter": "python",
   "pygments_lexer": "ipython3",
   "version": "3.6.0"
  }
 },
 "nbformat": 4,
 "nbformat_minor": 2
}
